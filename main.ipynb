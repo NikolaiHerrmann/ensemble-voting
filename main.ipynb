{
 "cells": [
  {
   "cell_type": "code",
   "execution_count": 7,
   "id": "ead305f5",
   "metadata": {},
   "outputs": [],
   "source": [
    "from vorace import Vorace\n",
    "import dataload\n",
    "import os\n",
    "import numpy as np\n",
    "from keras.utils import to_categorical\n",
    "from sklearn.model_selection import StratifiedKFold\n",
    "from tqdm import tqdm\n",
    "from sklearn.metrics import f1_score\n",
    "from sklearn.model_selection import train_test_split\n",
    "import warnings \n",
    "\n",
    "warnings.filterwarnings(\"ignore\")"
   ]
  },
  {
   "cell_type": "code",
   "execution_count": 8,
   "id": "61c7e7d5",
   "metadata": {},
   "outputs": [],
   "source": [
    "X, y = dataload.pd_read(os.path.join(\"data\", \"lymphography.csv\"))\n",
    "y = y - 1\n",
    "y_hot = to_categorical(y, num_classes=4)"
   ]
  },
  {
   "cell_type": "code",
   "execution_count": null,
   "id": "fd2f08b4",
   "metadata": {},
   "outputs": [
    {
     "name": "stderr",
     "output_type": "stream",
     "text": [
      " 50%|██████████████████████                      | 5/10 [00:06<00:05,  1.15s/it]"
     ]
    }
   ],
   "source": [
    "\n",
    "def run_experiments(X, y, y_hot, voting_rule, n_classes, n_exp=10, n_folds=10):\n",
    "    exp_scores = []\n",
    "    \n",
    "    for exp in tqdm(range(n_exp)):\n",
    "\n",
    "        vorace = Vorace(n_models=3, profile_type=3, nInput=18, nClasses=4, batch_size=16)\n",
    "        k_fold = StratifiedKFold(n_splits=n_folds, shuffle=True)\n",
    "        k_scores = []\n",
    "\n",
    "        for train_idx, test_idx in k_fold.split(X, y):\n",
    "            vorace.reset()\n",
    "            vorace.fit(X[train_idx], y[train_idx], y_hot[train_idx])\n",
    "            y_pred_vorace, _ = vorace.predict(voting=voting_rule, x=X[test_idx], nClasses=n_classes, argMax=True, tiebreak=\"best\")\n",
    "            f1score = f1_score(y[test_idx], y_pred_vorace, average=\"micro\")\n",
    "            k_scores.append(f1score)\n",
    "        \n",
    "        exp_scores.append(sum(k_scores) / len(k_scores))\n",
    "    \n",
    "    return exp_scores\n",
    "\n",
    "scores = run_experiments(X, y, y_hot, \"Plurality\", 4)\n",
    "print(scores)\n",
    "print(np.mean(scores))"
   ]
  }
 ],
 "metadata": {
  "kernelspec": {
   "display_name": "Python 3 (ipykernel)",
   "language": "python",
   "name": "python3"
  },
  "language_info": {
   "codemirror_mode": {
    "name": "ipython",
    "version": 3
   },
   "file_extension": ".py",
   "mimetype": "text/x-python",
   "name": "python",
   "nbconvert_exporter": "python",
   "pygments_lexer": "ipython3",
   "version": "3.10.10"
  }
 },
 "nbformat": 4,
 "nbformat_minor": 5
}
