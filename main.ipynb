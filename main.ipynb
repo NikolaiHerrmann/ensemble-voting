{
 "cells": [
  {
   "cell_type": "code",
   "execution_count": null,
   "id": "ead305f5",
   "metadata": {},
   "outputs": [],
   "source": [
    "import os\n",
    "os.environ['TF_CPP_MIN_LOG_LEVEL'] = '3'\n",
    "from vorace import Vorace\n",
    "import pandas as pd\n",
    "import numpy as np\n",
    "from keras.utils import to_categorical\n",
    "from sklearn.model_selection import StratifiedKFold\n",
    "from sklearn.metrics import f1_score\n",
    "from sklearn.preprocessing import StandardScaler\n",
    "import warnings\n",
    "import time\n",
    "import json\n",
    "warnings.filterwarnings(\"ignore\")"
   ]
  },
  {
   "cell_type": "code",
   "execution_count": null,
   "id": "9c0946cd",
   "metadata": {},
   "outputs": [],
   "source": [
    "DATA_PATH = \"data\"\n",
    "\n",
    "def pd_read(path, class_=\"class\"):\n",
    "    df = pd.read_csv(path)\n",
    "    X = df.drop(class_, axis=1)\n",
    "    y = df[class_]\n",
    "    return np.array(X), np.array(y)"
   ]
  },
  {
   "cell_type": "code",
   "execution_count": null,
   "id": "61c7e7d5",
   "metadata": {},
   "outputs": [],
   "source": [
    "# https://archive.ics.uci.edu/ml/datasets/wine\n",
    "wine_classes = 3\n",
    "X_wine, y_wine = pd_read(os.path.join(DATA_PATH, \"wine.csv\"))\n",
    "y_wine = y_wine - 1 # ensure onehot starts at zero\n",
    "y_hot_wine = to_categorical(y_wine, num_classes=wine_classes)"
   ]
  },
  {
   "cell_type": "code",
   "execution_count": null,
   "id": "b00ef0f1",
   "metadata": {},
   "outputs": [],
   "source": [
    "# https://archive.ics.uci.edu/ml/datasets/dermatology\n",
    "derm_classes = 6\n",
    "X_derm, y_derm = pd_read(os.path.join(DATA_PATH, \"dermatology.csv\"))\n",
    "y_derm = y_derm - 1\n",
    "y_hot_derm = to_categorical(y_derm, num_classes=derm_classes)"
   ]
  },
  {
   "cell_type": "code",
   "execution_count": null,
   "id": "fd2f08b4",
   "metadata": {},
   "outputs": [],
   "source": [
    "def run_experiments(X, y, y_hot, voting_rule, n_classes, num_models, scale=False, n_exp=10, n_folds=10):\n",
    "    exp_scores = []\n",
    "    exp_times = []\n",
    "    dims = X.shape\n",
    "    batch_size = 32 #int(2**np.ceil(np.log2(dims[0] / 100)))\n",
    "    \n",
    "    for exp in range(n_exp):\n",
    "               \n",
    "        vorace = Vorace(n_models=num_models, profile_type=3, nInput=dims[1], nClasses=n_classes, batch_size=batch_size)\n",
    "        k_fold = StratifiedKFold(n_splits=n_folds, shuffle=True)\n",
    "        scaler = StandardScaler()\n",
    "        k_scores = []\n",
    "        k_times = []\n",
    "\n",
    "        for train_idx, test_idx in k_fold.split(X, y):\n",
    "            if scale:\n",
    "                X_train = scaler.fit_transform(X[train_idx])\n",
    "                X_test = scaler.transform(X[test_idx])\n",
    "            else:\n",
    "                X_train = X[train_idx]\n",
    "                X_test = X[test_idx]\n",
    "            \n",
    "            vorace.reset()\n",
    "            vorace.fit(X_train, y[train_idx], y_hot[train_idx])\n",
    "            \n",
    "            start_time = time.time()\n",
    "            y_pred_vorace, _ = vorace.predict(voting=voting_rule, x=X_test, nClasses=n_classes, argMax=True, tiebreak=\"best\")\n",
    "            end_time = time.time()\n",
    "            \n",
    "            f1score = f1_score(y[test_idx], y_pred_vorace, average=\"micro\")\n",
    "            k_scores.append(f1score)\n",
    "            k_times.append(end_time - start_time)\n",
    "        \n",
    "        exp_scores.append(sum(k_scores) / len(k_scores))\n",
    "        exp_times.append(sum(k_times) / len(k_times))\n",
    "    \n",
    "    return exp_scores, exp_times"
   ]
  },
  {
   "cell_type": "code",
   "execution_count": null,
   "id": "0337dda2",
   "metadata": {},
   "outputs": [],
   "source": [
    "def exp(n_models, voting_rule, X, y, y_hot, n_classes, data):\n",
    "    scores, times = run_experiments(X, y, y_hot, voting_rule, n_classes, n_models)\n",
    "    data[str(n_models) + \" \" + voting_rule] = (scores, times)\n",
    "    print(n_models, voting_rule)\n",
    "    print(scores)\n",
    "    print(np.mean(scores))\n",
    "    print(times)\n",
    "    print(np.mean(times))\n",
    "    print(\"------------\")\n",
    "\n",
    "models = [3, 5, 10, 20, 30, 40, 50, 60]\n",
    "voting_rules = [\"Borda\", \"Copeland\", \"Sum\", \"Kemeny\", \"Plurality\"]\n",
    "\n",
    "data = dict()\n",
    "exp(1, \"Plurality\", X_derm, y_derm, y_hot_derm, derm_classes, data)\n",
    "\n",
    "for m in models:\n",
    "    for v in voting_rules:\n",
    "        exp(m, v, X_derm, y_derm, y_hot_derm, derm_classes, data)\n",
    "        \n",
    "with open(\"data.json\", \"w\") as f:\n",
    "    json.dump(data, f)"
   ]
  }
 ],
 "metadata": {
  "kernelspec": {
   "display_name": "Python 3 (ipykernel)",
   "language": "python",
   "name": "python3"
  },
  "language_info": {
   "codemirror_mode": {
    "name": "ipython",
    "version": 3
   },
   "file_extension": ".py",
   "mimetype": "text/x-python",
   "name": "python",
   "nbconvert_exporter": "python",
   "pygments_lexer": "ipython3",
   "version": "3.10.10"
  }
 },
 "nbformat": 4,
 "nbformat_minor": 5
}
